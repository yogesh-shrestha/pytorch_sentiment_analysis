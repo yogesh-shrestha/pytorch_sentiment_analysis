{
 "cells": [
  {
   "cell_type": "markdown",
   "id": "c8a92b8a",
   "metadata": {},
   "source": [
    "## Sentiment Analysis with Pretrained Embedding\n",
    "### (Embedding, Linear Layer, Embedding Parameters set to trainable)"
   ]
  },
  {
   "cell_type": "markdown",
   "id": "649a834b",
   "metadata": {},
   "source": [
    "### 1. Preparing Data"
   ]
  },
  {
   "cell_type": "code",
   "execution_count": 2,
   "id": "6bd52200",
   "metadata": {},
   "outputs": [],
   "source": [
    "import torch\n",
    "import torchtext\n",
    "from torchtext.datasets import IMDB\n",
    "from torch.utils.data import  DataLoader\n",
    "from torchtext.data import utils\n",
    "from torchtext import vocab\n",
    "from torchtext.data import functional\n",
    "from torch.utils.data.dataset import random_split\n",
    "from torch.nn.utils.rnn import pad_sequence\n",
    "from torch.optim.lr_scheduler import StepLR\n",
    "import torch.nn as nn\n",
    "from tqdm import tqdm\n",
    "import functools\n",
    "import sys"
   ]
  },
  {
   "cell_type": "markdown",
   "id": "8209aeec",
   "metadata": {},
   "source": [
    "#### Build Vocabulary"
   ]
  },
  {
   "cell_type": "code",
   "execution_count": 3,
   "id": "39dde0d2",
   "metadata": {},
   "outputs": [],
   "source": [
    "# Load Dataset\n",
    "train_iter, test_iter = IMDB()\n",
    "\n",
    "tokenizer = utils.get_tokenizer(\"basic_english\")\n",
    "\n",
    "def yield_tokens(text_iter):\n",
    "    for _, text in text_iter:\n",
    "        yield tokenizer(text)\n",
    "        \n",
    "special_tokens = [\"<unk>\", \"<pad>\"]\n",
    "        \n",
    "vocabulary = vocab.build_vocab_from_iterator(yield_tokens(train_iter),\n",
    "                                            min_freq=1,\n",
    "                                            specials=special_tokens)\n",
    "vocabulary.set_default_index(vocabulary[\"<unk>\"])"
   ]
  },
  {
   "cell_type": "markdown",
   "id": "f8425289",
   "metadata": {},
   "source": [
    "#### Build Dataset and Vocabulary"
   ]
  },
  {
   "cell_type": "code",
   "execution_count": 4,
   "id": "9b80f610",
   "metadata": {},
   "outputs": [],
   "source": [
    "text_pipeline = lambda x : vocabulary(tokenizer(x))\n",
    "label_pipeline = lambda x: 0. if x=='neg' else 1.\n",
    "BATCH_SIZE = 128\n",
    "\n",
    "# Load Dataset\n",
    "train_iter, test_iter = IMDB()\n",
    "\n",
    "train_dataset, test_dataset = functional.to_map_style_dataset(train_iter), \\\n",
    "                                functional.to_map_style_dataset(test_iter)\n",
    "num_test = int(len(test_dataset)*0.90)\n",
    "split_test, split_valid = random_split(test_dataset, [num_test, len(test_dataset)-num_test])\n",
    "\n",
    "def collate_batch(batch, pad_index):\n",
    "    label_list, text_list = [], []\n",
    "    for (label, text) in batch:\n",
    "        processed_text = torch.tensor(text_pipeline(text), dtype=torch.int64)\n",
    "        text_list.append(processed_text)\n",
    "        label_list.append(label_pipeline(label))\n",
    "    seq_list = pad_sequence(text_list, batch_first=True, padding_value=pad_index)\n",
    "    return seq_list, torch.tensor(label_list)\n",
    "\n",
    "pad_index = vocabulary[\"<pad>\"]\n",
    "collate_batch = functools.partial(collate_batch, pad_index=pad_index)\n",
    "\n",
    "train_loader = DataLoader(dataset=train_dataset, \n",
    "                         batch_size=BATCH_SIZE,\n",
    "                         shuffle=True,\n",
    "                         collate_fn=collate_batch)\n",
    "valid_loader = DataLoader(dataset=split_valid, \n",
    "                         batch_size=BATCH_SIZE,\n",
    "                         shuffle=False,\n",
    "                         collate_fn=collate_batch)\n",
    "test_loader = DataLoader(dataset=split_test, \n",
    "                         batch_size=BATCH_SIZE,\n",
    "                         shuffle=False,\n",
    "                         collate_fn=collate_batch)"
   ]
  },
  {
   "cell_type": "markdown",
   "id": "76454d5b",
   "metadata": {},
   "source": [
    "### 2. Define Model"
   ]
  },
  {
   "cell_type": "code",
   "execution_count": 5,
   "id": "27b6cfbb",
   "metadata": {},
   "outputs": [],
   "source": [
    "class TextClassifier(nn.Module):\n",
    "    def __init__(self, vocab_size, embed_dim, output_dim, pad_index):\n",
    "        super(TextClassifier, self).__init__()\n",
    "        self.embedding = nn.Embedding(vocab_size, embed_dim, padding_idx=pad_index)\n",
    "        self.fc = nn.Linear(embed_dim, output_dim)\n",
    "        self.sigmoid = nn.Sigmoid()\n",
    "        \n",
    "    def forward(self,X):\n",
    "        embedded = self.embedding(X)\n",
    "        pooled = embedded.mean(dim=1)\n",
    "        out = self.fc(pooled)\n",
    "        return self.sigmoid(out)"
   ]
  },
  {
   "cell_type": "markdown",
   "id": "0d8bbb7e",
   "metadata": {},
   "source": [
    "### 3. Build and Train Model"
   ]
  },
  {
   "cell_type": "markdown",
   "id": "40393c4b",
   "metadata": {},
   "source": [
    "#### Define Hyperparamters"
   ]
  },
  {
   "cell_type": "code",
   "execution_count": 10,
   "id": "7579667a",
   "metadata": {},
   "outputs": [],
   "source": [
    "EMBED_DIM = 300\n",
    "vocab_size = len(vocabulary)\n",
    "OUTPUT_DIM = 1\n",
    "pad_index = vocabulary['<pad>']\n",
    "\n",
    "text_classifier = TextClassifier(vocab_size, EMBED_DIM, OUTPUT_DIM, pad_index)        "
   ]
  },
  {
   "cell_type": "markdown",
   "id": "33fd6b82",
   "metadata": {},
   "source": [
    "#### Use Pretrained Embedding Vectors and freeze it "
   ]
  },
  {
   "cell_type": "code",
   "execution_count": 11,
   "id": "33f4e7c4",
   "metadata": {},
   "outputs": [],
   "source": [
    "vectors = torchtext.vocab.GloVe(name='840B', dim=300)\n",
    "pretrained_embedding = vectors.get_vecs_by_tokens(vocabulary.get_itos())\n",
    "text_classifier.embedding.weight.data = pretrained_embedding\n",
    "text_classifier.embedding.weight.requires_grad = False"
   ]
  },
  {
   "cell_type": "markdown",
   "id": "192e585a",
   "metadata": {},
   "source": [
    "#### Train Model"
   ]
  },
  {
   "cell_type": "code",
   "execution_count": 12,
   "id": "f7757041",
   "metadata": {},
   "outputs": [],
   "source": [
    "def train(dataloader, model):\n",
    "    for texts, labels in tqdm(dataloader, desc='training...', file=sys.stdout):\n",
    "        optimizer.zero_grad()\n",
    "        outputs = model(texts)\n",
    "        outputs = outputs.reshape(-1)\n",
    "        loss = criterion(outputs, labels)\n",
    "        loss.backward()\n",
    "        optimizer.step()\n",
    "        \n",
    "def evaluate(dataloader, model):\n",
    "    n_samples, n_accurates = 0, 0\n",
    "    with torch.no_grad():\n",
    "        for texts, labels in dataloader:\n",
    "            outputs = model(texts)\n",
    "            outputs = outputs.reshape(-1)\n",
    "            n_samples += labels.size(0)\n",
    "            n_accurates += (torch.round(outputs)==labels).sum().item()\n",
    "    return n_accurates/n_samples"
   ]
  },
  {
   "cell_type": "code",
   "execution_count": 13,
   "id": "72ffc8d3",
   "metadata": {},
   "outputs": [
    {
     "name": "stdout",
     "output_type": "stream",
     "text": [
      "training...: 100%|███████████████████████████████████████████████████████████████████| 196/196 [00:25<00:00,  7.63it/s]\n",
      "| Epoch: 1/20 | train_accuracy:  0.802 | val_accuracy :   0.790\n",
      "training...: 100%|███████████████████████████████████████████████████████████████████| 196/196 [00:26<00:00,  7.35it/s]\n",
      "| Epoch: 2/20 | train_accuracy:  0.822 | val_accuracy :   0.815\n",
      "training...: 100%|███████████████████████████████████████████████████████████████████| 196/196 [00:29<00:00,  6.74it/s]\n",
      "| Epoch: 3/20 | train_accuracy:  0.833 | val_accuracy :   0.820\n",
      "training...: 100%|███████████████████████████████████████████████████████████████████| 196/196 [00:26<00:00,  7.43it/s]\n",
      "| Epoch: 4/20 | train_accuracy:  0.836 | val_accuracy :   0.821\n",
      "training...: 100%|███████████████████████████████████████████████████████████████████| 196/196 [00:29<00:00,  6.65it/s]\n",
      "| Epoch: 5/20 | train_accuracy:  0.841 | val_accuracy :   0.830\n",
      "training...: 100%|███████████████████████████████████████████████████████████████████| 196/196 [00:25<00:00,  7.60it/s]\n",
      "| Epoch: 6/20 | train_accuracy:  0.845 | val_accuracy :   0.830\n",
      "training...: 100%|███████████████████████████████████████████████████████████████████| 196/196 [00:24<00:00,  7.85it/s]\n",
      "| Epoch: 7/20 | train_accuracy:  0.846 | val_accuracy :   0.830\n",
      "training...: 100%|███████████████████████████████████████████████████████████████████| 196/196 [00:25<00:00,  7.67it/s]\n",
      "| Epoch: 8/20 | train_accuracy:  0.849 | val_accuracy :   0.832\n",
      "training...: 100%|███████████████████████████████████████████████████████████████████| 196/196 [00:25<00:00,  7.81it/s]\n",
      "| Epoch: 9/20 | train_accuracy:  0.847 | val_accuracy :   0.830\n",
      "training...: 100%|███████████████████████████████████████████████████████████████████| 196/196 [00:25<00:00,  7.75it/s]\n",
      "| Epoch: 10/20 | train_accuracy:  0.850 | val_accuracy :   0.834\n",
      "training...: 100%|███████████████████████████████████████████████████████████████████| 196/196 [00:29<00:00,  6.66it/s]\n",
      "| Epoch: 11/20 | train_accuracy:  0.850 | val_accuracy :   0.834\n",
      "training...: 100%|███████████████████████████████████████████████████████████████████| 196/196 [00:26<00:00,  7.52it/s]\n",
      "| Epoch: 12/20 | train_accuracy:  0.850 | val_accuracy :   0.832\n",
      "training...: 100%|███████████████████████████████████████████████████████████████████| 196/196 [00:28<00:00,  6.85it/s]\n",
      "| Epoch: 13/20 | train_accuracy:  0.852 | val_accuracy :   0.834\n",
      "training...: 100%|███████████████████████████████████████████████████████████████████| 196/196 [00:30<00:00,  6.42it/s]\n",
      "| Epoch: 14/20 | train_accuracy:  0.852 | val_accuracy :   0.833\n",
      "training...: 100%|███████████████████████████████████████████████████████████████████| 196/196 [00:29<00:00,  6.56it/s]\n",
      "| Epoch: 15/20 | train_accuracy:  0.854 | val_accuracy :   0.837\n",
      "training...: 100%|███████████████████████████████████████████████████████████████████| 196/196 [00:29<00:00,  6.67it/s]\n",
      "| Epoch: 16/20 | train_accuracy:  0.853 | val_accuracy :   0.837\n",
      "training...: 100%|███████████████████████████████████████████████████████████████████| 196/196 [00:28<00:00,  6.77it/s]\n",
      "| Epoch: 17/20 | train_accuracy:  0.853 | val_accuracy :   0.837\n",
      "training...: 100%|███████████████████████████████████████████████████████████████████| 196/196 [00:29<00:00,  6.59it/s]\n",
      "| Epoch: 18/20 | train_accuracy:  0.853 | val_accuracy :   0.834\n",
      "training...: 100%|███████████████████████████████████████████████████████████████████| 196/196 [00:28<00:00,  6.86it/s]\n",
      "| Epoch: 19/20 | train_accuracy:  0.855 | val_accuracy :   0.837\n",
      "training...: 100%|███████████████████████████████████████████████████████████████████| 196/196 [00:28<00:00,  6.86it/s]\n",
      "| Epoch: 20/20 | train_accuracy:  0.855 | val_accuracy :   0.834\n",
      "============================================================\n",
      "Test Accuracy:  0.849\n"
     ]
    }
   ],
   "source": [
    "N_EPOCHS = 20\n",
    "LR = 0.05\n",
    "\n",
    "# Criterion, Optimizer, learning rate scheduler\n",
    "criterion = torch.nn.BCELoss()\n",
    "optimizer = torch.optim.Adam(text_classifier.parameters(), lr=LR)\n",
    "scheduler = StepLR(optimizer, step_size=4, gamma=0.8)\n",
    "\n",
    "for epoch in range(1, N_EPOCHS+1):\n",
    "    train(train_loader, text_classifier)\n",
    "    accu_train = evaluate(train_loader, text_classifier)\n",
    "    accu_val = evaluate(valid_loader, text_classifier)\n",
    "    scheduler.step()\n",
    "    print(f\"| Epoch: {epoch}/{N_EPOCHS} | train_accuracy: {accu_train: .3f} | val_accuracy :  {accu_val: .3f}\")\n",
    "    \n",
    "    # Test with test set\n",
    "accu_test = evaluate(test_loader, text_classifier)\n",
    "print('='*60)\n",
    "print(f\"Test Accuracy: {accu_test: .3f}\")"
   ]
  },
  {
   "cell_type": "code",
   "execution_count": 14,
   "id": "50ed18e5",
   "metadata": {},
   "outputs": [],
   "source": [
    "def predict_sentiment(text, model, tokenizer, vocab):\n",
    "    tokens = tokenizer(text)\n",
    "    ids = [vocab[t] for t in tokens]\n",
    "    tensor = torch.LongTensor(ids).unsqueeze(dim=0)\n",
    "    prediction = model(tensor)\n",
    "    prediction = torch.round(prediction).item()\n",
    "    predicted_polarity = \"pos\" if prediction==1 else \"neg\"\n",
    "    return predicted_polarity\n"
   ]
  },
  {
   "cell_type": "code",
   "execution_count": 15,
   "id": "cc8d03dd",
   "metadata": {},
   "outputs": [
    {
     "data": {
      "text/plain": [
       "'pos'"
      ]
     },
     "execution_count": 15,
     "metadata": {},
     "output_type": "execute_result"
    }
   ],
   "source": [
    "text = \"This film is great!\"\n",
    "\n",
    "predict_sentiment(text, text_classifier, tokenizer, vocabulary)"
   ]
  },
  {
   "cell_type": "code",
   "execution_count": 16,
   "id": "473e08c4",
   "metadata": {},
   "outputs": [
    {
     "data": {
      "text/plain": [
       "'neg'"
      ]
     },
     "execution_count": 16,
     "metadata": {},
     "output_type": "execute_result"
    }
   ],
   "source": [
    "text = \"This film is not great, it's terrible! i didn't like it\"\n",
    "\n",
    "predict_sentiment(text, text_classifier, tokenizer, vocabulary)"
   ]
  },
  {
   "cell_type": "code",
   "execution_count": 2,
   "id": "c1325d17",
   "metadata": {},
   "outputs": [
    {
     "name": "stderr",
     "output_type": "stream",
     "text": [
      ".vector_cache\\wiki.de.vec: 5.97GB [09:25, 10.6MB/s]                                                                    \n",
      "  0%|                                                                                      | 0/2275233 [00:00<?, ?it/s]Skipping token b'2275233' with 1-dimensional vector [b'300']; likely a header\n",
      "100%|██████████████████████████████████████████████████████████████████████| 2275233/2275233 [08:24<00:00, 4506.57it/s]\n"
     ]
    }
   ],
   "source": [
    "import torchtext\n",
    "\n",
    "vectors = torchtext.vocab.FastText(language='de')"
   ]
  },
  {
   "cell_type": "code",
   "execution_count": null,
   "id": "980034d8",
   "metadata": {},
   "outputs": [],
   "source": []
  }
 ],
 "metadata": {
  "kernelspec": {
   "display_name": "Python 3",
   "language": "python",
   "name": "python3"
  },
  "language_info": {
   "codemirror_mode": {
    "name": "ipython",
    "version": 3
   },
   "file_extension": ".py",
   "mimetype": "text/x-python",
   "name": "python",
   "nbconvert_exporter": "python",
   "pygments_lexer": "ipython3",
   "version": "3.8.8"
  }
 },
 "nbformat": 4,
 "nbformat_minor": 5
}
