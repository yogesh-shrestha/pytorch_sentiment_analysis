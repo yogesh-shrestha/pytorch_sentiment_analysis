{
 "cells": [
  {
   "cell_type": "markdown",
   "id": "91b5133c",
   "metadata": {},
   "source": [
    "## sentiment analysis with pretrained embedding (trained emb. layer)"
   ]
  },
  {
   "cell_type": "markdown",
   "id": "e021941a",
   "metadata": {},
   "source": [
    "### 1. Preparing Data"
   ]
  },
  {
   "cell_type": "code",
   "execution_count": 1,
   "id": "ed1c1da7",
   "metadata": {},
   "outputs": [],
   "source": [
    "import torch\n",
    "import torchtext\n",
    "from torchtext import datasets\n",
    "from torch.utils.data import  DataLoader\n",
    "from torchtext.data import utils\n",
    "from torchtext import vocab\n",
    "from torchtext.data import functional\n",
    "from torch.utils.data.dataset import random_split\n",
    "from torch.nn.utils.rnn import pad_sequence\n",
    "from torch.optim.lr_scheduler import StepLR\n",
    "import torch.nn as nn\n",
    "from tqdm import tqdm\n",
    "import functools\n",
    "import sys"
   ]
  },
  {
   "cell_type": "markdown",
   "id": "18750c96",
   "metadata": {},
   "source": [
    "#### Build Vocabulary"
   ]
  },
  {
   "cell_type": "code",
   "execution_count": 2,
   "id": "51c43a3f",
   "metadata": {},
   "outputs": [],
   "source": [
    "# Load Dataset\n",
    "train_iter, test_iter = datasets.IMDB()\n",
    "\n",
    "tokenizer = utils.get_tokenizer(\"basic_english\")\n",
    "\n",
    "def yield_tokens(text_iter):\n",
    "    for _, text in text_iter:\n",
    "        yield tokenizer(text)\n",
    "        \n",
    "special_tokens = [\"<unk>\", \"<pad>\"]\n",
    "        \n",
    "vocabulary = vocab.build_vocab_from_iterator(yield_tokens(train_iter),\n",
    "                                            min_freq=1,\n",
    "                                            specials=special_tokens)\n",
    "vocabulary.set_default_index(vocabulary[\"<unk>\"])"
   ]
  },
  {
   "cell_type": "markdown",
   "id": "3d3466f7",
   "metadata": {},
   "source": [
    "#### Build Dataset and Vocabulary"
   ]
  },
  {
   "cell_type": "code",
   "execution_count": 3,
   "id": "91e75106",
   "metadata": {},
   "outputs": [],
   "source": [
    "text_pipeline = lambda x : vocabulary(tokenizer(x))\n",
    "label_pipeline = lambda x: 0. if x=='neg' else 1.\n",
    "BATCH_SIZE = 100\n",
    "\n",
    "# Load Dataset\n",
    "train_iter, test_iter = datasets.IMDB()\n",
    "\n",
    "train_dataset, test_dataset = functional.to_map_style_dataset(train_iter), \\\n",
    "                                functional.to_map_style_dataset(test_iter)\n",
    "num_test = int(len(test_dataset)*0.90)\n",
    "split_test, split_valid = random_split(test_dataset, [num_test, len(test_dataset)-num_test])\n",
    "\n",
    "def collate_batch(batch, pad_index):\n",
    "    label_list, text_list = [], []\n",
    "    for (label, text) in batch:\n",
    "        processed_text = torch.tensor(text_pipeline(text), dtype=torch.int64)\n",
    "        text_list.append(processed_text)\n",
    "        label_list.append(label_pipeline(label))\n",
    "    seq_list = pad_sequence(text_list, batch_first=True, padding_value=pad_index)\n",
    "    return seq_list, torch.tensor(label_list)\n",
    "\n",
    "pad_index = vocabulary[\"<pad>\"]\n",
    "collate_batch = functools.partial(collate_batch, pad_index=pad_index)\n",
    "\n",
    "train_loader = DataLoader(dataset=train_dataset, \n",
    "                         batch_size=BATCH_SIZE,\n",
    "                         shuffle=True,\n",
    "                         collate_fn=collate_batch)\n",
    "valid_loader = DataLoader(dataset=split_valid, \n",
    "                         batch_size=BATCH_SIZE,\n",
    "                         shuffle=False,\n",
    "                         collate_fn=collate_batch)\n",
    "test_loader = DataLoader(dataset=split_test, \n",
    "                         batch_size=BATCH_SIZE,\n",
    "                         shuffle=False,\n",
    "                         collate_fn=collate_batch)"
   ]
  },
  {
   "cell_type": "markdown",
   "id": "f3ed5017",
   "metadata": {},
   "source": [
    "### 2. Define Model"
   ]
  },
  {
   "cell_type": "code",
   "execution_count": 4,
   "id": "8807494c",
   "metadata": {},
   "outputs": [],
   "source": [
    "class TextClassifier(nn.Module):\n",
    "    def __init__(self, vocab_size, embed_dim, output_dim, pad_index):\n",
    "        super(TextClassifier, self).__init__()\n",
    "        self.embedding = nn.Embedding(vocab_size, embed_dim, padding_idx=pad_index)\n",
    "        self.fc = nn.Linear(embed_dim, output_dim)\n",
    "        self.sigmoid = nn.Sigmoid()\n",
    "        \n",
    "    def forward(self,X):\n",
    "        embedded = self.embedding(X)\n",
    "        pooled = embedded.mean(dim=1)\n",
    "        out = self.fc(pooled)\n",
    "        return self.sigmoid(out)"
   ]
  },
  {
   "cell_type": "markdown",
   "id": "1bdf0da9",
   "metadata": {},
   "source": [
    "### 3. Build and Train Model"
   ]
  },
  {
   "cell_type": "markdown",
   "id": "e9e52249",
   "metadata": {},
   "source": [
    "#### Define Hyperparamters"
   ]
  },
  {
   "cell_type": "code",
   "execution_count": 5,
   "id": "d4360ca2",
   "metadata": {},
   "outputs": [],
   "source": [
    "EMBED_DIM = 300\n",
    "vocab_size = len(vocabulary)\n",
    "OUTPUT_DIM = 1\n",
    "pad_index = vocabulary['<pad>']\n",
    "\n",
    "\n",
    "text_classifier = TextClassifier(vocab_size, EMBED_DIM, OUTPUT_DIM, pad_index)  "
   ]
  },
  {
   "cell_type": "markdown",
   "id": "dd63544b",
   "metadata": {},
   "source": [
    "#### Use Pretrained Embedding Vectors and freeze it "
   ]
  },
  {
   "cell_type": "code",
   "execution_count": 6,
   "id": "8f4375f4",
   "metadata": {},
   "outputs": [],
   "source": [
    "vectors = torchtext.vocab.GloVe(name='840B', dim=300)\n",
    "pretrained_embedding = vectors.get_vecs_by_tokens(vocabulary.get_itos())\n",
    "text_classifier.embedding.weight.data = pretrained_embedding\n",
    "text_classifier.embedding.weight.requires_grad = True"
   ]
  },
  {
   "cell_type": "markdown",
   "id": "5faeeb27",
   "metadata": {},
   "source": [
    "#### Train Model"
   ]
  },
  {
   "cell_type": "code",
   "execution_count": 7,
   "id": "c7c8c7d8",
   "metadata": {},
   "outputs": [],
   "source": [
    "def train(dataloader, model):\n",
    "    for texts, labels in tqdm(dataloader, desc='training...', file=sys.stdout):\n",
    "        optimizer.zero_grad()\n",
    "        outputs = model(texts)\n",
    "        outputs = outputs.reshape(-1)\n",
    "        loss = criterion(outputs, labels)\n",
    "        loss.backward()\n",
    "        optimizer.step()\n",
    "        \n",
    "def evaluate(dataloader, model):\n",
    "    n_samples, n_accurates = 0, 0\n",
    "    with torch.no_grad():\n",
    "        for texts, labels in dataloader:\n",
    "            outputs = model(texts)\n",
    "            outputs = outputs.reshape(-1)\n",
    "            n_samples += labels.size(0)\n",
    "            n_accurates += (torch.round(outputs)==labels).sum().item()\n",
    "    return n_accurates/n_samples"
   ]
  },
  {
   "cell_type": "code",
   "execution_count": 8,
   "id": "1dd687b1",
   "metadata": {},
   "outputs": [
    {
     "name": "stdout",
     "output_type": "stream",
     "text": [
      "training...: 100%|███████████████████████████████████████████████████████████████████| 250/250 [02:17<00:00,  1.82it/s]\n",
      "| Epoch: 1/5 | train_accuracy:  0.969 | val_accuracy :   0.884\n",
      "training...: 100%|███████████████████████████████████████████████████████████████████| 250/250 [02:19<00:00,  1.80it/s]\n",
      "| Epoch: 2/5 | train_accuracy:  0.980 | val_accuracy :   0.870\n",
      "training...: 100%|███████████████████████████████████████████████████████████████████| 250/250 [02:14<00:00,  1.85it/s]\n",
      "| Epoch: 3/5 | train_accuracy:  0.994 | val_accuracy :   0.880\n",
      "training...: 100%|███████████████████████████████████████████████████████████████████| 250/250 [02:20<00:00,  1.77it/s]\n",
      "| Epoch: 4/5 | train_accuracy:  0.996 | val_accuracy :   0.882\n",
      "training...: 100%|███████████████████████████████████████████████████████████████████| 250/250 [02:31<00:00,  1.65it/s]\n",
      "| Epoch: 5/5 | train_accuracy:  0.997 | val_accuracy :   0.881\n",
      "============================================================\n",
      "Test Accuracy:  0.875\n"
     ]
    }
   ],
   "source": [
    "N_EPOCHS = 5\n",
    "LR = 0.05\n",
    "\n",
    "# Criterion, Optimizer, learning rate scheduler\n",
    "criterion = torch.nn.BCELoss()\n",
    "optimizer = torch.optim.Adam(text_classifier.parameters(), lr=LR)\n",
    "scheduler = StepLR(optimizer, step_size=1, gamma=0.5)\n",
    "\n",
    "for epoch in range(1, N_EPOCHS+1):\n",
    "    train(train_loader, text_classifier)\n",
    "    accu_train = evaluate(train_loader, text_classifier)\n",
    "    accu_val = evaluate(valid_loader, text_classifier)\n",
    "    scheduler.step()\n",
    "    print(f\"| Epoch: {epoch}/{N_EPOCHS} | train_accuracy: {accu_train: .3f} | val_accuracy :  {accu_val: .3f}\")\n",
    "    \n",
    "    # Test with test set\n",
    "accu_test = evaluate(test_loader, text_classifier)\n",
    "print('='*60)\n",
    "print(f\"Test Accuracy: {accu_test: .3f}\")"
   ]
  },
  {
   "cell_type": "code",
   "execution_count": 10,
   "id": "c85a3f4e",
   "metadata": {},
   "outputs": [],
   "source": [
    "def predict_sentiment(text, model, tokenizer, vocab):\n",
    "    tokens = tokenizer(text)\n",
    "    ids = [vocab[t] for t in tokens]\n",
    "    tensor = torch.LongTensor(ids).unsqueeze(dim=0)\n",
    "    prediction = model(tensor)\n",
    "    prediction = torch.round(prediction).item()\n",
    "    predicted_polarity = \"pos\" if prediction==1 else \"neg\"\n",
    "    return predicted_polarity"
   ]
  },
  {
   "cell_type": "code",
   "execution_count": 11,
   "id": "f6ac1e32",
   "metadata": {},
   "outputs": [
    {
     "data": {
      "text/plain": [
       "'pos'"
      ]
     },
     "execution_count": 11,
     "metadata": {},
     "output_type": "execute_result"
    }
   ],
   "source": [
    "text = \"This film is great!\"\n",
    "\n",
    "predict_sentiment(text, text_classifier, tokenizer, vocabulary)"
   ]
  },
  {
   "cell_type": "code",
   "execution_count": 12,
   "id": "d7718c68",
   "metadata": {},
   "outputs": [
    {
     "data": {
      "text/plain": [
       "'neg'"
      ]
     },
     "execution_count": 12,
     "metadata": {},
     "output_type": "execute_result"
    }
   ],
   "source": [
    "text = \"This film is not great, it's terrible!\"\n",
    "\n",
    "predict_sentiment(text, text_classifier, tokenizer, vocabulary)"
   ]
  },
  {
   "cell_type": "code",
   "execution_count": null,
   "id": "dfbf8a3e",
   "metadata": {},
   "outputs": [],
   "source": []
  }
 ],
 "metadata": {
  "kernelspec": {
   "display_name": "Python 3",
   "language": "python",
   "name": "python3"
  },
  "language_info": {
   "codemirror_mode": {
    "name": "ipython",
    "version": 3
   },
   "file_extension": ".py",
   "mimetype": "text/x-python",
   "name": "python",
   "nbconvert_exporter": "python",
   "pygments_lexer": "ipython3",
   "version": "3.8.8"
  }
 },
 "nbformat": 4,
 "nbformat_minor": 5
}
