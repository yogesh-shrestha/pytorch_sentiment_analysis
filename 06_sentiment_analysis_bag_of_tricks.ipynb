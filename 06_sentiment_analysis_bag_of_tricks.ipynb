{
 "cells": [
  {
   "cell_type": "markdown",
   "id": "016d578c",
   "metadata": {},
   "source": [
    "## Sentiment Analysis with Bag of Tricks\n",
    "### (Embedding Layer, Average Pooling, Linear)"
   ]
  },
  {
   "cell_type": "code",
   "execution_count": 9,
   "id": "165318b1",
   "metadata": {},
   "outputs": [],
   "source": [
    "import torch\n",
    "import torchtext\n",
    "import functools\n",
    "from tqdm import tqdm\n",
    "import sys\n",
    "\n",
    "import torch.nn as nn\n",
    "from torch.utils.data import DataLoader\n",
    "from torch.nn.functional import avg_pool2d\n",
    "from torchtext.data import get_tokenizer\n",
    "from torchtext.data.utils import ngrams_iterator\n",
    "from torchtext.vocab import build_vocab_from_iterator\n",
    "from torch.utils.data import random_split\n",
    "from torchtext.data.functional import to_map_style_dataset\n",
    "from torch.nn.utils.rnn import pad_sequence\n",
    "from torch.optim.lr_scheduler import StepLR"
   ]
  },
  {
   "cell_type": "markdown",
   "id": "ce177e3f",
   "metadata": {},
   "source": [
    "### 1. Prepare Data\n",
    "#### Build Vobulary"
   ]
  },
  {
   "cell_type": "code",
   "execution_count": 10,
   "id": "a5cc6954",
   "metadata": {},
   "outputs": [],
   "source": [
    "train_iter = torchtext.datasets.IMDB(split=\"train\")\n",
    "\n",
    "def yield_tokens(text_iter):\n",
    "    tokenizer = get_tokenizer('spacy', language='en_core_web_sm')\n",
    "    for _, text in text_iter:\n",
    "        tokens = tokenizer(text)\n",
    "        yield  list(ngrams_iterator(tokens, 2))\n",
    "\n",
    "special_tokens = ['<unk>', '<pad>']        \n",
    "vocab = build_vocab_from_iterator(yield_tokens(train_iter),\n",
    "                                               min_freq=1,\n",
    "                                               specials=special_tokens)\n",
    "vocab.set_default_index(vocab['<unk>'])"
   ]
  },
  {
   "cell_type": "markdown",
   "id": "8889c201",
   "metadata": {},
   "source": [
    "#### Build Dataset and Dataloader"
   ]
  },
  {
   "cell_type": "code",
   "execution_count": 11,
   "id": "6ab77290",
   "metadata": {},
   "outputs": [],
   "source": [
    "tokenizer = get_tokenizer('spacy', language='en_core_web_sm')\n",
    "text_pipeline = lambda x : vocab(list(ngrams_iterator(tokenizer(x), 2)))\n",
    "label_pipeline = lambda x: 0. if x=='neg' else 1.\n",
    "\n",
    "BATCH_SIZE = 100\n",
    "\n",
    "# Load Dataset\n",
    "train_iter, test_iter = torchtext.datasets.IMDB()\n",
    "\n",
    "train_dataset, test_dataset = to_map_style_dataset(train_iter), to_map_style_dataset(test_iter)\n",
    "num_test = int(len(test_dataset)*0.90)\n",
    "split_test, split_valid = random_split(test_dataset, [num_test, len(test_dataset)-num_test])\n",
    "\n",
    "def collate_batch(batch, pad_index):\n",
    "    label_list, text_list = [], []\n",
    "    for (label, text) in batch:\n",
    "        processed_text = torch.tensor(text_pipeline(text), dtype=torch.int64)\n",
    "        text_list.append(processed_text)\n",
    "        label_list.append(label_pipeline(label))\n",
    "    seq_tensor = pad_sequence(text_list, batch_first=True, padding_value=pad_index)\n",
    "    label_tensor = torch.tensor(label_list)\n",
    "    return seq_tensor, label_tensor\n",
    "\n",
    "pad_index = vocab[\"<pad>\"]\n",
    "collate_batch = functools.partial(collate_batch, pad_index=pad_index)\n",
    "\n",
    "train_loader = DataLoader(dataset=train_dataset, \n",
    "                         batch_size=BATCH_SIZE,\n",
    "                         shuffle=True,\n",
    "                         collate_fn=collate_batch)\n",
    "valid_loader = DataLoader(dataset=split_valid, \n",
    "                         batch_size=BATCH_SIZE,\n",
    "                         shuffle=False,\n",
    "                         collate_fn=collate_batch)\n",
    "test_loader = DataLoader(dataset=split_test, \n",
    "                         batch_size=BATCH_SIZE,\n",
    "                         shuffle=False,\n",
    "                         collate_fn=collate_batch)"
   ]
  },
  {
   "cell_type": "markdown",
   "id": "042ff635",
   "metadata": {},
   "source": [
    "### 2. Define Model"
   ]
  },
  {
   "cell_type": "code",
   "execution_count": 12,
   "id": "47f2ff6b",
   "metadata": {},
   "outputs": [],
   "source": [
    "class FastText(torch.nn.Module):\n",
    "    def __init__(self, vocab_size, embedding_dim, pad_idx, output_dim):       \n",
    "        super().__init__()        \n",
    "        self.embedding = nn.Embedding(vocab_size, embedding_dim, padding_idx=pad_idx)      \n",
    "        self.fc = nn.Linear(embedding_dim, output_dim)\n",
    "        \n",
    "    def forward(self, text):      \n",
    "        #text = [sent len, batch size]       \n",
    "        embedded = self.embedding(text)                \n",
    "        #embedded = [batch size, sent len, emb dim]      \n",
    "        pooled = avg_pool2d(embedded, (embedded.shape[1], 1)).squeeze(1)       \n",
    "        #pooled = [batch size, embedding_dim]               \n",
    "        return self.fc(pooled)\n",
    "    "
   ]
  },
  {
   "cell_type": "markdown",
   "id": "e1a33319",
   "metadata": {},
   "source": [
    "### Build and Train\n",
    "#### Defien Hpyerdimensions"
   ]
  },
  {
   "cell_type": "code",
   "execution_count": 16,
   "id": "81e5bf08",
   "metadata": {},
   "outputs": [],
   "source": [
    "EMBED_DIM = 128\n",
    "vocab_size = len(vocab)\n",
    "OUTPUT_DIM = 1\n",
    "pad_index = vocab['<pad>']\n",
    "\n",
    "classifier = FastText(vocab_size, EMBED_DIM, OUTPUT_DIM, pad_index) \n",
    "\n",
    "UNK_IDX = vocab[\"<unk>\"]\n",
    "PAD_IDX = vocab[\"<pad>\"]\n",
    "classifier.embedding.weight.data[UNK_IDX] = torch.zeros(EMBED_DIM)\n",
    "classifier.embedding.weight.data[PAD_IDX] = torch.zeros(EMBED_DIM)"
   ]
  },
  {
   "cell_type": "markdown",
   "id": "3f858615",
   "metadata": {},
   "source": [
    "#### Train Model"
   ]
  },
  {
   "cell_type": "code",
   "execution_count": 17,
   "id": "19c9010d",
   "metadata": {},
   "outputs": [],
   "source": [
    "def train(dataloader, model):\n",
    "    for texts, labels in tqdm(dataloader, desc='training...', file=sys.stdout):\n",
    "        optimizer.zero_grad()\n",
    "        outputs = model(texts)\n",
    "        outputs = outputs.reshape(-1)\n",
    "        loss = criterion(outputs, labels)\n",
    "        loss.backward()\n",
    "        optimizer.step()\n",
    "        \n",
    "def evaluate(dataloader, model):\n",
    "    n_samples, n_accurates = 0, 0\n",
    "    with torch.no_grad():\n",
    "        for texts, labels in dataloader:\n",
    "            outputs = model(texts)\n",
    "            outputs = outputs.reshape(-1)\n",
    "            n_samples += labels.size(0)\n",
    "            n_accurates += (torch.round(outputs)==labels).sum().item()\n",
    "    return n_accurates/n_samples"
   ]
  },
  {
   "cell_type": "code",
   "execution_count": 18,
   "id": "67005de9",
   "metadata": {},
   "outputs": [
    {
     "name": "stdout",
     "output_type": "stream",
     "text": [
      "training...: 100%|███████████████████████████████████████████████████████████████████| 250/250 [12:35<00:00,  3.02s/it]\n",
      "| Epoch: 1/1 | train_accuracy:  0.502 | val_accuracy :   0.484\n",
      "============================================================\n",
      "Test Accuracy:  0.502\n"
     ]
    }
   ],
   "source": [
    "N_EPOCHS = 1\n",
    "\n",
    "# Criterion, Optimizer, learning rate scheduler\n",
    "\n",
    "criterion = nn.BCEWithLogitsLoss()\n",
    "optimizer = torch.optim.Adam(classifier.parameters())\n",
    "\n",
    "for epoch in range(1, N_EPOCHS+1):\n",
    "    train(train_loader, classifier)\n",
    "    accu_train = evaluate(train_loader, classifier)\n",
    "    accu_val = evaluate(valid_loader, classifier)\n",
    "    print(f\"| Epoch: {epoch}/{N_EPOCHS} | train_accuracy: {accu_train: .3f} | val_accuracy :  {accu_val: .3f}\")\n",
    "    \n",
    "    # Test with test set\n",
    "accu_test = evaluate(test_loader, classifier)\n",
    "print('='*60)\n",
    "print(f\"Test Accuracy: {accu_test: .3f}\")"
   ]
  },
  {
   "cell_type": "code",
   "execution_count": null,
   "id": "c8b014ef",
   "metadata": {},
   "outputs": [],
   "source": []
  }
 ],
 "metadata": {
  "kernelspec": {
   "display_name": "Python 3",
   "language": "python",
   "name": "python3"
  },
  "language_info": {
   "codemirror_mode": {
    "name": "ipython",
    "version": 3
   },
   "file_extension": ".py",
   "mimetype": "text/x-python",
   "name": "python",
   "nbconvert_exporter": "python",
   "pygments_lexer": "ipython3",
   "version": "3.8.8"
  }
 },
 "nbformat": 4,
 "nbformat_minor": 5
}
