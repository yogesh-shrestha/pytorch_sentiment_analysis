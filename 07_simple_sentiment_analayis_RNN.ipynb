{
 "cells": [
  {
   "cell_type": "markdown",
   "id": "6154ee0e",
   "metadata": {},
   "source": [
    "## Sentiment Analayis with RNN"
   ]
  },
  {
   "cell_type": "markdown",
   "id": "f2d80982",
   "metadata": {},
   "source": [
    "### 1. Preparing Data"
   ]
  },
  {
   "cell_type": "code",
   "execution_count": 154,
   "id": "17986f8e",
   "metadata": {},
   "outputs": [],
   "source": [
    "import torch\n",
    "from torchtext import datasets\n",
    "from torch.utils.data import  DataLoader\n",
    "from torchtext.data import utils\n",
    "from torchtext import vocab\n",
    "from torchtext.data import functional\n",
    "from torch.utils.data.dataset import random_split\n",
    "from torch.nn.utils.rnn import pad_sequence\n",
    "import torch.nn as nn\n",
    "from tqdm import tqdm"
   ]
  },
  {
   "cell_type": "markdown",
   "id": "d92be49a",
   "metadata": {},
   "source": [
    "#### Build Vocabulary"
   ]
  },
  {
   "cell_type": "code",
   "execution_count": 91,
   "id": "fc941bb4",
   "metadata": {},
   "outputs": [],
   "source": [
    "# Load Dataset\n",
    "train_iter, test_iter = datasets.IMDB()\n",
    "\n",
    "tokenizer = utils.get_tokenizer(\"basic_english\")\n",
    "\n",
    "def yield_tokens(text_iter):\n",
    "    for _, text in text_iter:\n",
    "        yield tokenizer(text)\n",
    "        \n",
    "vocabulary = vocab.build_vocab_from_iterator(yield_tokens(train_iter),\n",
    "                                            min_freq=1,\n",
    "                                            specials=[\"<unk>\"])\n",
    "vocabulary.set_default_index(vocabulary[\"<unk>\"])"
   ]
  },
  {
   "cell_type": "markdown",
   "id": "6fb01c87",
   "metadata": {},
   "source": [
    "#### Build Dataset and Dataloader"
   ]
  },
  {
   "cell_type": "code",
   "execution_count": 98,
   "id": "3d34af35",
   "metadata": {},
   "outputs": [],
   "source": [
    "text_pipeline = lambda x : vocabulary(tokenizer(x))\n",
    "label_pipeline = lambda x: 0. if x=='neg' else 1.\n",
    "BATCH_SIZE = 100\n",
    "\n",
    "# Load Dataset\n",
    "train_iter, test_iter = datasets.IMDB()\n",
    "\n",
    "train_dataset, test_dataset = functional.to_map_style_dataset(train_iter), \\\n",
    "                                functional.to_map_style_dataset(test_iter)\n",
    "num_test = int(len(test_dataset)*0.90)\n",
    "split_test, split_valid = random_split(test_dataset, [num_test, len(test_dataset)-num_test])\n",
    "\n",
    "def collate_batch(batch):\n",
    "    label_list, text_list = [], []\n",
    "    for (label, text) in batch:\n",
    "        processed_text = torch.tensor(text_pipeline(text), dtype=torch.int64)\n",
    "        text_list.append(processed_text)\n",
    "        label_list.append(label_pipeline(label))\n",
    "    seq_list = pad_sequence(text_list, batch_first=True, padding_value=0)\n",
    "    return seq_list, torch.tensor(label_list)\n",
    "\n",
    "\n",
    "\n",
    "train_loader = DataLoader(dataset=train_dataset, \n",
    "                         batch_size=BATCH_SIZE,\n",
    "                         shuffle=True,\n",
    "                         collate_fn=collate_batch)\n",
    "valid_loader = DataLoader(dataset=split_valid, \n",
    "                         batch_size=BATCH_SIZE,\n",
    "                         shuffle=False,\n",
    "                         collate_fn=collate_batch)\n",
    "test_loader = DataLoader(dataset=split_test, \n",
    "                         batch_size=BATCH_SIZE,\n",
    "                         shuffle=False,\n",
    "                         collate_fn=collate_batch)"
   ]
  },
  {
   "cell_type": "markdown",
   "id": "e0c48762",
   "metadata": {},
   "source": [
    "### 2. Define Model"
   ]
  },
  {
   "cell_type": "code",
   "execution_count": 168,
   "id": "4f01a83e",
   "metadata": {},
   "outputs": [],
   "source": [
    "class TextClassifier(nn.Module):\n",
    "    def __init__(self, vocab_size, embed_dim, hidden_size, output_dim, num_layers=1):\n",
    "        super(TextClassifier, self).__init__()\n",
    "        self.hidden_size = hidden_size\n",
    "        self.num_layers = num_layers\n",
    "        self.embedding = nn.Embedding(vocab_size, embed_dim, padding_idx=0)\n",
    "        self.rnn = nn.RNN(embed_dim, hidden_size, batch_first=True)\n",
    "        self.fc = nn.Linear(hidden_size, output_dim)\n",
    "        self.sigmoid = nn.Sigmoid()\n",
    "        \n",
    "    def forward(self, X):\n",
    "        embedded = self.embedding(X)\n",
    "        h0 = torch.zeros(self.num_layers, X.size(0), self.hidden_size)\n",
    "        output, hidden = self.rnn(embedded, h0)\n",
    "        output = output[:, -1, :]\n",
    "        output = self.fc(output)\n",
    "        return self.sigmoid(output)"
   ]
  },
  {
   "cell_type": "markdown",
   "id": "41dcba3b",
   "metadata": {},
   "source": [
    "### 3. Train Model"
   ]
  },
  {
   "cell_type": "code",
   "execution_count": 169,
   "id": "08e478b1",
   "metadata": {},
   "outputs": [],
   "source": [
    "def train(dataloader, model):\n",
    "    n_samples, n_accurates = 0, 0\n",
    "    total_batches = len(dataloader)\n",
    "    for idx, (text, label) in enumerate(dataloader):\n",
    "        optimizer.zero_grad()\n",
    "        outputs = model(text)\n",
    "        outputs = outputs.type(torch.FloatTensor).reshape(-1)\n",
    "        loss = criterion(outputs, label)\n",
    "        loss.backward()\n",
    "        optimizer.step()\n",
    "\n",
    "            \n",
    "def evaluate(dataloader, model):\n",
    "    n_samples, n_accurates = 0, 0\n",
    "    with torch.no_grad():\n",
    "        for idx, (text, label) in enumerate(dataloader):\n",
    "            outputs = model(text)\n",
    "            outputs = outputs.reshape(-1).type(torch.FloatTensor)\n",
    "            label = label.reshape(-1).type(torch.LongTensor)\n",
    "            n_accurates += (torch.round(outputs) == label).sum().item()\n",
    "            n_samples += label.size(0)\n",
    "    return n_accurates/n_samples"
   ]
  },
  {
   "cell_type": "code",
   "execution_count": 172,
   "id": "b7b9d83f",
   "metadata": {},
   "outputs": [
    {
     "name": "stderr",
     "output_type": "stream",
     "text": [
      "<ipython-input-98-4190b8d2e6ff>:20: UserWarning: To copy construct from a tensor, it is recommended to use sourceTensor.clone().detach() or sourceTensor.clone().detach().requires_grad_(True), rather than torch.tensor(sourceTensor).\n",
      "  return torch.tensor(seq_list), torch.tensor(label_list)\n"
     ]
    },
    {
     "name": "stdout",
     "output_type": "stream",
     "text": [
      "| epoch: 1 | batches: 125/250 | train_accuracy:  50.424\n",
      "| epoch: 1 | batches: 250/250 | train_accuracy:  50.188\n",
      "| End of Epoch: 1 | train_accuracy:  0.520 | val_accuracy :   0.440\n",
      "| epoch: 2 | batches: 125/250 | train_accuracy:  49.960\n",
      "| epoch: 2 | batches: 250/250 | train_accuracy:  49.948\n",
      "| End of Epoch: 2 | train_accuracy:  0.510 | val_accuracy :   0.550\n",
      "| epoch: 3 | batches: 125/250 | train_accuracy:  50.256\n",
      "| epoch: 3 | batches: 250/250 | train_accuracy:  49.960\n",
      "| End of Epoch: 3 | train_accuracy:  0.540 | val_accuracy :   0.550\n",
      "| epoch: 4 | batches: 125/250 | train_accuracy:  50.048\n",
      "| epoch: 4 | batches: 250/250 | train_accuracy:  49.772\n",
      "| End of Epoch: 4 | train_accuracy:  0.610 | val_accuracy :   0.560\n",
      "| epoch: 5 | batches: 125/250 | train_accuracy:  50.552\n",
      "| epoch: 5 | batches: 250/250 | train_accuracy:  50.028\n",
      "| End of Epoch: 5 | train_accuracy:  0.530 | val_accuracy :   0.450\n",
      "Test Accuracy:  0.520\n"
     ]
    }
   ],
   "source": [
    "# Define some hyperparameters\n",
    "LR = 0.0001\n",
    "EPOCHS = 5\n",
    "output_dim = 1\n",
    "vocab_size = len(vocabulary)\n",
    "embed_dim = 64\n",
    "hidden_size = 50\n",
    "text_classifier = TextClassifier(vocab_size, embed_dim, hidden_size, output_dim)\n",
    "\n",
    "# Criterion, Optimizer, learning rate scheduler\n",
    "criterion = torch.nn.BCELoss()\n",
    "optimizer = torch.optim.Adam(text_classifier.parameters(), lr=LR)\n",
    "\n",
    "for epoch in range(1, EPOCHS + 1):\n",
    "    train(train_loader, text_classifier)\n",
    "    accu_train = evaluate(train_loader, text_classifier)\n",
    "    accu_val = evaluate(valid_loader, text_classifier)\n",
    "    print(f\"| Epoch: {epoch} | train_accuracy: {accu_train: .3f} | val_accuracy :  {accu_val: .3f}\")\n",
    "\n",
    "# Test with test set\n",
    "accu_test = evaluate(test_loader, text_classifier)\n",
    "print(f\"Test Accuracy: {accu_test: .3f}\")"
   ]
  },
  {
   "cell_type": "code",
   "execution_count": null,
   "id": "a09cd3a5",
   "metadata": {},
   "outputs": [],
   "source": []
  }
 ],
 "metadata": {
  "kernelspec": {
   "display_name": "Python 3",
   "language": "python",
   "name": "python3"
  },
  "language_info": {
   "codemirror_mode": {
    "name": "ipython",
    "version": 3
   },
   "file_extension": ".py",
   "mimetype": "text/x-python",
   "name": "python",
   "nbconvert_exporter": "python",
   "pygments_lexer": "ipython3",
   "version": "3.8.8"
  }
 },
 "nbformat": 4,
 "nbformat_minor": 5
}
